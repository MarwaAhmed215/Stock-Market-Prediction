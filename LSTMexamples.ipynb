{
 "cells": [
  {
   "cell_type": "code",
   "execution_count": 2,
   "metadata": {},
   "outputs": [
    {
     "name": "stdout",
     "output_type": "stream",
     "text": [
      "tensor([[[ 0.2626, -0.0716, -0.2325]]], grad_fn=<StackBackward0>)\n",
      "(tensor([[[ 0.2626, -0.0716, -0.2325]]], grad_fn=<StackBackward0>), tensor([[[ 0.5211, -0.5011, -0.4972]]], grad_fn=<StackBackward0>))\n"
     ]
    }
   ],
   "source": [
    "import torch\n",
    "import torch.nn as nn\n",
    "import torch.nn.functional as F\n",
    "import torch.optim as optim\n",
    "input_size = 3\n",
    "hidden_size = 3\n",
    "lstm = nn.LSTM(input_size,hidden_size)\n",
    "inputs = [torch.randn(1,3) for _ in range(5)]\n",
    "inputs\n",
    "hidden = (torch.randn(1,1,3), torch.randn(1,1,3))\n",
    "hidden\n",
    "# inputs[1].view(1,1,-1)\n",
    "# print(inputs[1])\n",
    "# inputs[1].shape\n",
    "for i in inputs:\n",
    "    out, hidden = lstm(i.view(1,1,-1),hidden)\n",
    "\n",
    "print(out)\n",
    "print(hidden)\n",
    "\n",
    "\n"
   ]
  },
  {
   "cell_type": "code",
   "execution_count": 6,
   "metadata": {},
   "outputs": [],
   "source": [
    "import pandas as pd\n",
    "import numpy as np\n",
    "import matplotlib.pyplot as plt\n",
    "import seaborn as sns\n",
    "#for reading stock market data\n",
    "from pandas_datareader.data import DataReader\n",
    "import yfinance as yf\n",
    "from pandas_datareader import data as pdr\n",
    "\n",
    "yf.pdr_override()\n",
    "\n",
    "# for time stamps \n",
    "from datetime import datetime"
   ]
  },
  {
   "cell_type": "code",
   "execution_count": 7,
   "metadata": {},
   "outputs": [],
   "source": [
    "# stock for analysis Apple, Google, Microsoft, Amazon\n",
    "stock_list = [\"AAPL\", \"GOOG\", \"MSFT\", \"AMZN\"]\n",
    "#end and start time for the data download data for one year \n",
    "end = datetime.now()\n",
    "start = datetime(end.year - 1, end.month, end.day)"
   ]
  },
  {
   "cell_type": "code",
   "execution_count": 8,
   "metadata": {},
   "outputs": [
    {
     "name": "stdout",
     "output_type": "stream",
     "text": [
      "[*********************100%***********************]  1 of 1 completed\n",
      "[*********************100%***********************]  1 of 1 completed\n",
      "[*********************100%***********************]  1 of 1 completed\n",
      "[*********************100%***********************]  1 of 1 completed\n"
     ]
    },
    {
     "ename": "",
     "evalue": "",
     "output_type": "error",
     "traceback": [
      "\u001b[1;31mThe Kernel crashed while executing code in the the current cell or a previous cell. Please review the code in the cell(s) to identify a possible cause of the failure. Click <a href='https://aka.ms/vscodeJupyterKernelCrash'>here</a> for more info. View Jupyter <a href='command:jupyter.viewOutput'>log</a> for further details."
     ]
    }
   ],
   "source": [
    "#download stock using yahoo finance\n",
    "for stock in stock_list:\n",
    "    globals() [stock] = yf.download(stock,start,end)"
   ]
  },
  {
   "cell_type": "code",
   "execution_count": 4,
   "metadata": {},
   "outputs": [
    {
     "name": "stdout",
     "output_type": "stream",
     "text": [
      "tensor([[-0.1280, -0.0758, -0.0529,  0.0203],\n",
      "        [ 0.1132,  0.1301, -0.0903,  0.1292],\n",
      "        [ 0.0151,  0.0834, -0.0718,  0.1342],\n",
      "        [ 0.0670, -0.0180,  0.0679,  0.0024],\n",
      "        [-0.2142,  0.0460, -0.1391,  0.0793],\n",
      "        [ 0.3706,  0.1538, -0.3376, -0.0055],\n",
      "        [ 0.0178,  0.3618, -0.1004,  0.1433],\n",
      "        [-0.0886, -0.1460, -0.1288, -0.1311],\n",
      "        [ 0.2816,  0.4119, -0.0779,  0.0524],\n",
      "        [ 0.1883,  0.0462, -0.1657, -0.0946],\n",
      "        [-0.0668,  0.1008, -0.1255, -0.1215],\n",
      "        [ 0.2302,  0.0952,  0.0561,  0.0359],\n",
      "        [ 0.1452, -0.0568, -0.1574, -0.1216],\n",
      "        [ 0.3424,  0.2008, -0.1330,  0.1223],\n",
      "        [ 0.2129, -0.0970, -0.0975,  0.0157],\n",
      "        [ 0.2335, -0.4328, -0.0991, -0.0066],\n",
      "        [-0.0185,  0.0016,  0.0893,  0.1061],\n",
      "        [ 0.2041, -0.0947, -0.2690, -0.0317],\n",
      "        [ 0.3411, -0.2089, -0.3320,  0.0053],\n",
      "        [ 0.1345, -0.1736, -0.1279, -0.2453],\n",
      "        [-0.0093,  0.0112, -0.1940, -0.0778],\n",
      "        [ 0.1126, -0.0942, -0.0732, -0.0147],\n",
      "        [ 0.0963, -0.0947, -0.2545, -0.1414],\n",
      "        [ 0.3958, -0.2351, -0.0862, -0.1212],\n",
      "        [ 0.1084, -0.1659, -0.0581, -0.0183],\n",
      "        [ 0.4175,  0.2239, -0.2109,  0.0471],\n",
      "        [-0.0412, -0.1179, -0.1927, -0.0540],\n",
      "        [ 0.3273,  0.0378, -0.2083,  0.0447],\n",
      "        [ 0.2723,  0.0940, -0.2229,  0.0486],\n",
      "        [ 0.0238, -0.0313, -0.2374, -0.1764],\n",
      "        [-0.0662, -0.0945, -0.0748,  0.0576],\n",
      "        [ 0.2853,  0.1310, -0.3053,  0.1709]], grad_fn=<SliceBackward0>)\n"
     ]
    }
   ],
   "source": [
    "\n",
    "#example of inputs and output from a single LSTM layer\n",
    "batch_size = 32\n",
    "timesteps = 10\n",
    "input_features = 8\n",
    "output_features = 4\n",
    "\n",
    "inputs = torch.randn(timesteps, batch_size,input_features)\n",
    "lstm = nn.LSTM(input_size=input_features, hidden_size=output_features)\n",
    "h_seq_out, (h_t,c_t) = lstm(inputs)\n",
    "# h_seq_out is of shape (time_steps, batch_size, out_features)\n",
    "t,b,out = h_seq_out.shape\n",
    "# h_seq_out[-1,:,:] means last time step for all batche_size and output_features = h_t (latst_time step)\n",
    "print(h_seq_out[-1,:,:])\n",
    "# print(h_t)\n",
    "\n"
   ]
  },
  {
   "cell_type": "code",
   "execution_count": 5,
   "metadata": {},
   "outputs": [
    {
     "ename": "NameError",
     "evalue": "name 'LSTM' is not defined",
     "output_type": "error",
     "traceback": [
      "\u001b[1;31m---------------------------------------------------------------------------\u001b[0m",
      "\u001b[1;31mNameError\u001b[0m                                 Traceback (most recent call last)",
      "Cell \u001b[1;32mIn[5], line 32\u001b[0m\n\u001b[0;32m     28\u001b[0m         out \u001b[39m=\u001b[39m \u001b[39mself\u001b[39m\u001b[39m.\u001b[39msigmoid(out)\n\u001b[0;32m     30\u001b[0m         \u001b[39mreturn\u001b[39;00m out\n\u001b[1;32m---> 32\u001b[0m model \u001b[39m=\u001b[39m Model()\n\u001b[0;32m     34\u001b[0m torchinfo\u001b[39m.\u001b[39msummary(model)\n",
      "Cell \u001b[1;32mIn[5], line 15\u001b[0m, in \u001b[0;36mModel.__init__\u001b[1;34m(self)\u001b[0m\n\u001b[0;32m     13\u001b[0m \u001b[39mdef\u001b[39;00m \u001b[39m__init__\u001b[39m(\u001b[39mself\u001b[39m) \u001b[39m-\u001b[39m\u001b[39m>\u001b[39m \u001b[39mNone\u001b[39;00m:\n\u001b[0;32m     14\u001b[0m     \u001b[39msuper\u001b[39m()\u001b[39m.\u001b[39m\u001b[39m__init__\u001b[39m()\n\u001b[1;32m---> 15\u001b[0m     \u001b[39mself\u001b[39m\u001b[39m.\u001b[39mlstm1 \u001b[39m=\u001b[39m LSTM(input_size\u001b[39m=\u001b[39minput_features, hidden_size\u001b[39m=\u001b[39mh1_features)\n\u001b[0;32m     16\u001b[0m     \u001b[39mself\u001b[39m\u001b[39m.\u001b[39mlstm2 \u001b[39m=\u001b[39m LSTM(input_size\u001b[39m=\u001b[39mh1_features,hidden_size\u001b[39m=\u001b[39mh2_features)\n\u001b[0;32m     17\u001b[0m     \u001b[39mself\u001b[39m\u001b[39m.\u001b[39mfc1 \u001b[39m=\u001b[39m nn\u001b[39m.\u001b[39mLinear(in_features\u001b[39m=\u001b[39mh2_features,out_features\u001b[39m=\u001b[39mh3_features)\n",
      "\u001b[1;31mNameError\u001b[0m: name 'LSTM' is not defined"
     ]
    }
   ],
   "source": [
    "import torchinfo\n",
    "\n",
    "#example for 2 LSTMs layers and 2 fully connected layers\n",
    "batch_size = 32\n",
    "timesteps = 12\n",
    "input_features = 16\n",
    "h1_features = 8\n",
    "h2_features = 4\n",
    "h3_features = 2\n",
    "output_features = 1\n",
    "\n",
    "class Model(nn.Module):\n",
    "    def __init__(self) -> None:\n",
    "        super().__init__()\n",
    "        self.lstm1 = LSTM(input_size=input_features, hidden_size=h1_features)\n",
    "        self.lstm2 = LSTM(input_size=h1_features,hidden_size=h2_features)\n",
    "        self.fc1 = nn.Linear(in_features=h2_features,out_features=h3_features)\n",
    "        self.relu = nn.ReLU()\n",
    "        self.fc2 = nn.Linear(in_features=h3_features,out_features=output_features)\n",
    "        self.sigmoid = nn.Sigmoid()\n",
    "\n",
    "    def forward(x):\n",
    "        h1, (h1_t,c1_t) = self.lstm1(x)\n",
    "        h2, (h2_t,c2_t) = self.lstm2(h1)\n",
    "        out = self.fc1(h2[-1::,:]) # or out = self.fc1(h2_t)\n",
    "        out = self.relu(out)\n",
    "        out = self.fc2(out)\n",
    "        out = self.sigmoid(out)\n",
    "\n",
    "        return out\n",
    "\n",
    "model = Model()\n",
    "\n",
    "torchinfo.summary(model)"
   ]
  }
 ],
 "metadata": {
  "kernelspec": {
   "display_name": "Python 3",
   "language": "python",
   "name": "python3"
  },
  "language_info": {
   "codemirror_mode": {
    "name": "ipython",
    "version": 3
   },
   "file_extension": ".py",
   "mimetype": "text/x-python",
   "name": "python",
   "nbconvert_exporter": "python",
   "pygments_lexer": "ipython3",
   "version": "3.10.11"
  },
  "orig_nbformat": 4
 },
 "nbformat": 4,
 "nbformat_minor": 2
}
